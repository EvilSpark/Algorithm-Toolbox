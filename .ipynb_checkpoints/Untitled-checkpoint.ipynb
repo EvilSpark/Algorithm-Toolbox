{
 "cells": [
  {
   "cell_type": "code",
   "execution_count": 4,
   "metadata": {},
   "outputs": [],
   "source": [
    "\n",
    "\n",
    "\n",
    "\n",
    "# Uses python3\n",
    "n = int(input())\n",
    "a = [int(x) for x in input().split(\" \")]\n",
    "assert len(a) == n\n",
    "\n",
    "result = 0\n",
    "\n",
    "\"\"\"for k in range(0, n):\n",
    "    for m in range(k+1, n):\n",
    "        if a[k]*a[m] > result:\n",
    "            result = a[k]*a[m]\"\"\"\n",
    "max1 = max(a)\n",
    "a.remove(max1)\n",
    "max2 = max(a)\n",
    "\n",
    "print(max1 * max2)\n",
    "\n",
    "\n",
    "\n",
    "\n",
    "\n",
    "\n",
    "\n"
   ]
  }
 ],
 "metadata": {
  "kernelspec": {
   "display_name": "Python 3",
   "language": "python",
   "name": "python3"
  },
  "language_info": {
   "codemirror_mode": {
    "name": "ipython",
    "version": 3
   },
   "file_extension": ".py",
   "mimetype": "text/x-python",
   "name": "python",
   "nbconvert_exporter": "python",
   "pygments_lexer": "ipython3",
   "version": "3.7.3"
  }
 },
 "nbformat": 4,
 "nbformat_minor": 2
}
